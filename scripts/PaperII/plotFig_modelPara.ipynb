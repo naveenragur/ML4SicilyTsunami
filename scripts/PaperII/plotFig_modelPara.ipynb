{
 "cells": [
  {
   "cell_type": "markdown",
   "metadata": {},
   "source": [
    "Check model parameters and size"
   ]
  },
  {
   "cell_type": "code",
   "execution_count": 1,
   "metadata": {},
   "outputs": [
    {
     "data": {
      "text/plain": [
       "Autoencoder_coupled(\n",
       "  (offshore_encoder): Sequential(\n",
       "    (0): Conv1d(5, 64, kernel_size=(3,), stride=(1,), padding=(1,))\n",
       "    (1): LeakyReLU(negative_slope=0.5, inplace=True)\n",
       "    (2): AvgPool1d(kernel_size=(2,), stride=(2,), padding=(0,))\n",
       "    (3): Conv1d(64, 128, kernel_size=(3,), stride=(1,), padding=(1,))\n",
       "    (4): LeakyReLU(negative_slope=0.5, inplace=True)\n",
       "    (5): AvgPool1d(kernel_size=(2,), stride=(2,), padding=(0,))\n",
       "    (6): Conv1d(128, 256, kernel_size=(3,), stride=(1,), padding=(1,))\n",
       "    (7): LeakyReLU(negative_slope=0.5, inplace=True)\n",
       "    (8): AvgPool1d(kernel_size=(2,), stride=(2,), padding=(0,))\n",
       "    (9): Dropout(p=0.1, inplace=False)\n",
       "    (10): Flatten(start_dim=1, end_dim=-1)\n",
       "    (11): Linear(in_features=15360, out_features=64, bias=True)\n",
       "  )\n",
       "  (deform_encoder): Sequential(\n",
       "    (0): Linear(in_features=186181, out_features=64, bias=True)\n",
       "    (1): LeakyReLU(negative_slope=0.01, inplace=True)\n",
       "    (2): Linear(in_features=64, out_features=64, bias=True)\n",
       "    (3): LeakyReLU(negative_slope=0.01, inplace=True)\n",
       "  )\n",
       "  (connect): Sequential(\n",
       "    (0): Linear(in_features=128, out_features=64, bias=True)\n",
       "    (1): LeakyReLU(negative_slope=0.01, inplace=True)\n",
       "    (2): Linear(in_features=64, out_features=64, bias=True)\n",
       "    (3): LeakyReLU(negative_slope=0.01, inplace=True)\n",
       "  )\n",
       "  (onshore_decoder): Sequential(\n",
       "    (0): Linear(in_features=64, out_features=64, bias=True)\n",
       "    (1): LeakyReLU(negative_slope=0.01, inplace=True)\n",
       "    (2): Linear(in_features=64, out_features=186181, bias=True)\n",
       "    (3): LeakyReLU(negative_slope=0.01, inplace=True)\n",
       "  )\n",
       ")"
      ]
     },
     "execution_count": 1,
     "metadata": {},
     "output_type": "execute_result"
    }
   ],
   "source": [
    "from torchsummary import summary\n",
    "import model_utils as utils\n",
    "import torch\n",
    "model = torch.load(f\"/mnt/beegfs/nragu/tsunami/ML4SicilyTsunami/model/SR/out/model_coupled_off[64, 128, 256]_on[64, 64]_epoch_1000_900.pt\",map_location=torch.device('cpu'))\n",
    "model.eval()\n",
    "# summary(model,[(5,480),(186181,)])\n",
    "summary(model,[(5,480),(186181,)])"
   ]
  }
 ],
 "metadata": {
  "kernelspec": {
   "display_name": "Python 3",
   "language": "python",
   "name": "python3"
  },
  "language_info": {
   "codemirror_mode": {
    "name": "ipython",
    "version": 3
   },
   "file_extension": ".py",
   "mimetype": "text/x-python",
   "name": "python",
   "nbconvert_exporter": "python",
   "pygments_lexer": "ipython3",
   "version": "3.10.11"
  },
  "orig_nbformat": 4
 },
 "nbformat": 4,
 "nbformat_minor": 2
}
