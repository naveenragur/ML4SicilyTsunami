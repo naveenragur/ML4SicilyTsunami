{
 "cells": [
  {
   "cell_type": "code",
   "execution_count": 10,
   "metadata": {},
   "outputs": [
    {
     "name": "stdout",
     "output_type": "stream",
     "text": [
      "Submitted batch job 48899\n",
      "Submitted batch job 48900\n",
      "Submitted batch job 48901\n",
      "Submitted batch job 48902\n",
      "Submitted batch job 48903\n",
      "Submitted batch job 48904\n",
      "Submitted batch job 48905\n",
      "Submitted batch job 48906\n"
     ]
    }
   ],
   "source": [
    "import subprocess\n",
    "from concurrent.futures import ThreadPoolExecutor\n",
    "import time\n",
    "\n",
    "def run_slurm_job(reg,train_size):\n",
    "    sbatch_script = f\"\"\"#!/bin/bash\n",
    "#SBATCH --job-name={reg}-{train_size} # Job name\n",
    "#SBATCH --nodes=1 # number of nodes\n",
    "#SBATCH --ntasks-per-node=1 # number of tasks\n",
    "#SBATCH --time=0-06:00 # time limit (D-HH:MM)\n",
    "#SBATCH -p gpuq # partition\n",
    "#SBATCH --gres=gpu:1 # number of GPUs\n",
    "#SBATCH --mem=64G # memory pool for all cores\n",
    "#SBATCH --output ./sbatch/run-%j-{reg}-{train_size}.txt       # Standard out goes to this file\n",
    "#SBATCH --error ./sbatch/error-%j-{reg}-{train_size}.txt      # Standard err goes to this file\n",
    "\n",
    "begin=`date +%s`\n",
    "echo node: $HOSTNAME\n",
    "echo start time: `date`\n",
    "echo ...........\n",
    "\n",
    "source /home/${{USER}}/.bash_profile\n",
    "conda activate /mnt/beegfs/nragu/tsunami/env\n",
    "sleep 10\n",
    "python main.py with 'reg={reg}' 'train_size={train_size}'\n",
    "\n",
    "echo ...........\n",
    "end=`date +%s`\n",
    "elapsed=`expr $end - $begin`\n",
    "echo Time taken: $elapsed seconds\n",
    "\"\"\"\n",
    "\n",
    "    sbatch_file = f\"sbatch_{reg}_{train_size}.sh\"\n",
    "    with open(sbatch_file, \"w\") as f:\n",
    "        f.write(sbatch_script)\n",
    "\n",
    "    command = f\"sbatch {sbatch_file}\"\n",
    "    subprocess.run(command, shell=True)\n",
    "\n",
    "train_sizes = [ '2400','1200','600','300']\n",
    "regions = ['SR','CT']\n",
    "\n",
    "#launch as job queue, 4 jobs at a time\n",
    "max_concurrent_jobs = 1\n",
    "\n",
    "def run_jobs():\n",
    "    with ThreadPoolExecutor(max_workers=max_concurrent_jobs) as executor:\n",
    "        futures = [executor.submit(run_slurm_job, reg, size) for reg in regions for size in train_sizes]\n",
    "        # Wait for all jobs to complete\n",
    "        for future in futures:\n",
    "            future.result()\n",
    "\n",
    "\n",
    "run_jobs()"
   ]
  }
 ],
 "metadata": {
  "kernelspec": {
   "display_name": "Python 3",
   "language": "python",
   "name": "python3"
  },
  "language_info": {
   "codemirror_mode": {
    "name": "ipython",
    "version": 3
   },
   "file_extension": ".py",
   "mimetype": "text/x-python",
   "name": "python",
   "nbconvert_exporter": "python",
   "pygments_lexer": "ipython3",
   "version": "3.10.11"
  },
  "orig_nbformat": 4
 },
 "nbformat": 4,
 "nbformat_minor": 2
}
