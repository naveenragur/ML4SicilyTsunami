{
 "cells": [
  {
   "cell_type": "code",
   "execution_count": null,
   "metadata": {},
   "outputs": [],
   "source": [
    "import pandas as pd\n",
    "import numpy as np\n",
    "import os\n",
    "import glob\n",
    "import xarray as xr\n",
    "import matplotlib.pyplot as plt\n",
    "from mpl_toolkits.basemap import Basemap\n",
    "import geopandas as gpd\n",
    "from shapely.geometry import Point\n"
   ]
  },
  {
   "cell_type": "code",
   "execution_count": null,
   "metadata": {},
   "outputs": [],
   "source": [
    "df = pd.read_csv('../resources/all_eventsBS_PS53550.txt', sep='\\t')\n",
    "latmean = df['lat'].mean()\n",
    "lonmean = df['lon'].mean()\n",
    "\n",
    "\n",
    "# 1. Draw the map background\n",
    "fig = plt.figure(figsize=(10, 10))\n",
    "m = Basemap(llcrnrlon=10, llcrnrlat=25, urcrnrlon=40, urcrnrlat=45)\n",
    "m = Basemap(projection='lcc', resolution='h', \n",
    "            lat_0=latmean, lon_0=lonmean,\n",
    "            width=2.5E6, height=1.5E6)\n",
    "m.shadedrelief()\n",
    "m.drawcoastlines(color='gray')\n",
    "m.drawcountries(color='gray')\n",
    "m.drawstates(color='gray')\n",
    "\n",
    "# 2. scatter city data, with color reflecting population\n",
    "# and size reflecting area\n",
    "m.scatter(df['lon'], df['lat'], latlon=True,s=2.5,\n",
    "          alpha=0.3, label='EQ Locations')\n",
    "plt.title('Earthquake Locations in Dataset (n=53550)')\n",
    "plt.legend(facecolor='white',loc='lower left');\n",
    "plt.show()"
   ]
  },
  {
   "cell_type": "code",
   "execution_count": null,
   "metadata": {},
   "outputs": [],
   "source": [
    "import numpy as np\n",
    "from netCDF4 import Dataset\n",
    "# from scipy.io import netcdf\n",
    "import matplotlib.pyplot as plt\n",
    "from mpl_toolkits.basemap import Basemap\n",
    "\n",
    "when = 0 # improve this variable later so that user input can be date/ time\n",
    "\n",
    "filename = 'some_filepath' # input the complete filepath here\n",
    "# open the file at the address 'filename' for reading:\n",
    "fopen = Dataset(filename, 'r') # <-- turn on if using netCDF4\n",
    "# fopen = netcdf.netcdf_file(filename, 'r') <-- turn on if using scipy.io\n",
    "\n",
    "# now set variables x, y and 'data':\n",
    "x = fopen.variables['lon_var'][:] # this is a 1D longitude array\n",
    "y = fopen.variables['lat_var'][:] # this is a 1D latitude array \n",
    "data = fopen.variables['data_var'][:] \n",
    "# this is a 3D array with a value saved at each point in 2D space and time\n",
    "# reduce data to a 2D array for a specific time:\n",
    "data_when = data[when,:,:]\n",
    "\n",
    "#close the file at the address\n",
    "fopen.close()\n",
    "\n",
    "# create a basemap to plot onto:\n",
    "m = Basemap(width=10000000, height=7000000,\\\n",
    "        resolution='l', projection='stere',\\\n",
    "        lat_ts=40, lat_0=50, lon_0=0)\n",
    "m.drawcoastlines()\n",
    "m.drawparallels(np.arange(-80.,81,20))\n",
    "m.drawmeridians(np.arange(-180.,181,20))\n",
    "# \n",
    "#   add other basemap drawing options here \n",
    "\n",
    "# convert 1D matrices into 2D fill matrices for processing:\n",
    "xx, yy = np.meshgrid(x, y)\n",
    "xx, yy = m(xx, yy)\n",
    "plt.contourf(xx, yy, data_when)\n",
    "\n",
    "plt.show()"
   ]
  }
 ],
 "metadata": {
  "kernelspec": {
   "display_name": "pygmt",
   "language": "python",
   "name": "python3"
  },
  "language_info": {
   "codemirror_mode": {
    "name": "ipython",
    "version": 3
   },
   "file_extension": ".py",
   "mimetype": "text/x-python",
   "name": "python",
   "nbconvert_exporter": "python",
   "pygments_lexer": "ipython3",
   "version": "3.10.6"
  },
  "orig_nbformat": 4
 },
 "nbformat": 4,
 "nbformat_minor": 2
}
