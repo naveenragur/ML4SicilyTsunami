{
 "cells": [
  {
   "cell_type": "code",
   "execution_count": 1,
   "metadata": {},
   "outputs": [
    {
     "name": "stdout",
     "output_type": "stream",
     "text": [
      "environ({'SSH_CONNECTION': '192.168.5.171 50522 192.168.5.40 22', 'DISPLAY': 'localhost:11.0', 'OLDPWD': '/home/nragu/.vscode-server/bin/b7886d7461186a5eac768481578c1d7ca80e2d21', 'XDG_SESSION_ID': '22928', 'USER': 'nragu', 'SELINUX_ROLE_REQUESTED': '', 'PWD': '/home/nragu', 'HOME': '/home/nragu', 'SSH_CLIENT': '192.168.5.171 50522 22', 'SELINUX_LEVEL_REQUESTED': '', 'SHELL': '/bin/bash', 'SELINUX_USE_CURRENT_RANGE': '', 'SHLVL': '6', 'VSCODE_AGENT_FOLDER': '/home/nragu/.vscode-server', 'LOGNAME': 'nragu', 'DBUS_SESSION_BUS_ADDRESS': 'unix:path=/run/user/1012/bus', 'XDG_RUNTIME_DIR': '/run/user/1012', 'PATH': '/home/nragu/opt/anaconda3/envs/pytorch/bin:/home/nragu/.vscode-server/bin/b7886d7461186a5eac768481578c1d7ca80e2d21/bin/remote-cli:/home/nragu/opt/nvim-linux64/bin:/usr/local/cuda-11/bin:/home/nragu/opt/anaconda3/condabin:/home/linuxbrew/.linuxbrew/bin:/home/linuxbrew/.linuxbrew/sbin:/usr/local/bin:/usr/bin:/usr/local/sbin:/usr/sbin', '_': '/home/nragu/opt/anaconda3/envs/pytorch/bin/python', 'VSCODE_HANDLES_SIGPIPE': 'true', 'CONDA_SHLVL': '1', 'LS_COLORS': '', 'CONDA_EXE': '/home/nragu/opt/anaconda3/bin/conda', 'PTHA': '/mnt/data/nragu/Tsunami/Tohoku', 'LANG': 'en_us_8859_1', 'HISTIGNORE': '&:[ ]*:exit:ls:bg:fg:history:clear', 'HISTCONTROL': 'erasedups:ignoreboth', 'LESS': '-R', 'HOSTNAME': 'localhost.localdomain', 'COMP_WORDBREAKS': ' \\t\\n\"\\'><=;|&(', 'KDEDIRS': '/usr', '_CE_M': '', 'which_declare': 'declare -f', 'PAGER': 'cat', 'LSCOLORS': 'Gxfxcxdxdxegedabagacad', 'CONDA_PYTHON_EXE': '/home/nragu/opt/anaconda3/bin/python', 'LC_CTYPE': 'it_IT.UTF-8', 'LMOD_VERSION': '8.7.7', 'BASH_ENV': '/usr/share/lmod/lmod/init/bash', '_CE_CONDA': '', 'LMOD_SHELL_PRGM': 'bash', 'CLAW': '/home/nragu/opt/clawpack_src/clawpack-v5-8-2', 'OSH': '/home/nragu/.oh-my-bash', 'LMOD_sys': 'Linux', 'FC': 'gfortran', 'LMOD_ROOT': '/usr/share/lmod', 'HOMEBREW_REPOSITORY': '/home/linuxbrew/.linuxbrew/Homebrew', 'MAIL': '/var/spool/mail/nragu', 'TSU': '/mnt/data/nragu/Tsunami', 'HOMEBREW_PREFIX': '/home/linuxbrew/.linuxbrew', 'FFLAGS': '-O2 -fopenmp', 'MANPATH': '/usr/local/cuda-11/man:/home/linuxbrew/.linuxbrew/share/man:/usr/share/lmod/lmod/share/man::', 'MODULEPATH': '/etc/modulefiles:/usr/share/modulefiles:/usr/share/modulefiles/Linux:/usr/share/modulefiles/Core:/usr/share/lmod/lmod/modulefiles/Core', 'MODULEPATH_ROOT': '/usr/share/modulefiles', 'MODULESHOME': '/usr/share/lmod/lmod', 'LMOD_SETTARG_FULL_SUPPORT': 'no', 'INFOPATH': '/home/linuxbrew/.linuxbrew/share/info:', 'HOMEBREW_CELLAR': '/home/linuxbrew/.linuxbrew/Cellar', 'HISTSIZE': '', 'LMOD_PKG': '/usr/share/lmod/lmod', 'HISTFILESIZE': '', 'LMOD_CMD': '/usr/share/lmod/lmod/libexec/lmod', 'OMP_NUM_THREADS': '20', 'LESSOPEN': '||/usr/bin/lesspipe.sh %s', 'LMOD_DIR': '/usr/share/lmod/lmod/libexec', 'BASH_FUNC_which%%': '() {  ( alias;\\n eval ${which_declare} ) | /usr/bin/which --tty-only --read-alias --read-functions --show-tilde --show-dot $@\\n}', 'BASH_FUNC_module%%': '() {  if [ -z \"${LMOD_SH_DBG_ON+x}\" ]; then\\n case \"$-\" in \\n *v*x*)\\n __lmod_sh_dbg=\\'vx\\'\\n ;;\\n *v*)\\n __lmod_sh_dbg=\\'v\\'\\n ;;\\n *x*)\\n __lmod_sh_dbg=\\'x\\'\\n ;;\\n esac;\\n fi;\\n if [ -n \"${__lmod_sh_dbg:-}\" ]; then\\n set +$__lmod_sh_dbg;\\n echo \"Shell debugging temporarily silenced: export LMOD_SH_DBG_ON=1 for Lmod\\'s output\" 1>&2;\\n fi;\\n eval \"$($LMOD_CMD $LMOD_SHELL_PRGM \"$@\")\" && eval \"$(${LMOD_SETTARG_CMD:-:} -s sh)\";\\n __lmod_my_status=$?;\\n if [ -n \"${__lmod_sh_dbg:-}\" ]; then\\n echo \"Shell debugging restarted\" 1>&2;\\n set -$__lmod_sh_dbg;\\n fi;\\n unset __lmod_sh_dbg;\\n return $__lmod_my_status\\n}', 'BASH_FUNC_ml%%': '() {  eval \"$($LMOD_DIR/ml_cmd \"$@\")\"\\n}', 'VSCODE_AMD_ENTRYPOINT': 'vs/workbench/api/node/extensionHostProcess', 'VSCODE_HANDLES_UNCAUGHT_ERRORS': 'true', 'VSCODE_NLS_CONFIG': '{\"locale\":\"en\",\"osLocale\":\"en\",\"availableLanguages\":{}}', 'BROWSER': '/home/nragu/.vscode-server/bin/b7886d7461186a5eac768481578c1d7ca80e2d21/bin/helpers/browser.sh', 'VSCODE_CWD': '/home/nragu', 'ELECTRON_RUN_AS_NODE': '1', 'VSCODE_IPC_HOOK_CLI': '/run/user/1012/vscode-ipc-7ad0e50a-652d-4c85-9649-539331d15acb.sock', 'VSCODE_L10N_BUNDLE_LOCATION': '', 'PYTHONUNBUFFERED': '1', 'CONDA_PREFIX': '/home/nragu/opt/anaconda3/envs/pytorch', 'PYTHONIOENCODING': 'utf-8', 'MY_VAR': '999', 'CONDA_PROMPT_MODIFIER': '(pytorch) ', 'CONDA_ROOT': '/home/nragu/opt/anaconda3', 'CONDA_DEFAULT_ENV': 'pytorch', 'PYDEVD_IPYTHON_COMPATIBLE_DEBUGGING': '1', 'TERM': 'xterm-color', 'CLICOLOR': '1', 'GIT_PAGER': 'cat', 'MPLBACKEND': 'module://ipykernel.pylab.backend_inline'})\n"
     ]
    }
   ],
   "source": [
    "import os\n",
    "CLAW = os.environ['CLAW']\n",
    "t = os.environ['MY_VAR']\n",
    "print(os.environ)"
   ]
  },
  {
   "cell_type": "code",
   "execution_count": null,
   "metadata": {},
   "outputs": [],
   "source": [
    "import pandas as pd\n",
    "import numpy as np\n",
    "import os\n",
    "import glob\n",
    "import xarray as xr\n",
    "import matplotlib.pyplot as plt\n",
    "from mpl_toolkits.basemap import Basemap\n",
    "import geopandas as gpd\n",
    "from shapely.geometry import Point\n"
   ]
  },
  {
   "cell_type": "code",
   "execution_count": null,
   "metadata": {},
   "outputs": [],
   "source": [
    "df = pd.read_csv('../resources/all_eventsBS_PS53550.txt', sep='\\t')\n",
    "latmean = df['lat'].mean()\n",
    "lonmean = df['lon'].mean()\n",
    "\n",
    "\n",
    "# 1. Draw the map background\n",
    "fig = plt.figure(figsize=(10, 10))\n",
    "m = Basemap(llcrnrlon=10, llcrnrlat=25, urcrnrlon=40, urcrnrlat=45)\n",
    "m = Basemap(projection='lcc', resolution='h', \n",
    "            lat_0=latmean, lon_0=lonmean,\n",
    "            width=2.5E6, height=1.5E6)\n",
    "m.shadedrelief()\n",
    "m.drawcoastlines(color='gray')\n",
    "m.drawcountries(color='gray')\n",
    "m.drawstates(color='gray')\n",
    "\n",
    "# 2. scatter city data, with color reflecting population\n",
    "# and size reflecting area\n",
    "m.scatter(df['lon'], df['lat'], latlon=True,s=2.5,\n",
    "          alpha=0.3, label='EQ Locations')\n",
    "plt.title('Earthquake Locations in Dataset (n=53550)')\n",
    "plt.legend(facecolor='white',loc='lower left');\n",
    "plt.show()"
   ]
  },
  {
   "cell_type": "code",
   "execution_count": null,
   "metadata": {},
   "outputs": [],
   "source": [
    "import numpy as np\n",
    "from netCDF4 import Dataset\n",
    "# from scipy.io import netcdf\n",
    "import matplotlib.pyplot as plt\n",
    "from mpl_toolkits.basemap import Basemap\n",
    "\n",
    "when = 0 # improve this variable later so that user input can be date/ time\n",
    "\n",
    "filename = 'some_filepath' # input the complete filepath here\n",
    "# open the file at the address 'filename' for reading:\n",
    "fopen = Dataset(filename, 'r') # <-- turn on if using netCDF4\n",
    "# fopen = netcdf.netcdf_file(filename, 'r') <-- turn on if using scipy.io\n",
    "\n",
    "# now set variables x, y and 'data':\n",
    "x = fopen.variables['lon_var'][:] # this is a 1D longitude array\n",
    "y = fopen.variables['lat_var'][:] # this is a 1D latitude array \n",
    "data = fopen.variables['data_var'][:] \n",
    "# this is a 3D array with a value saved at each point in 2D space and time\n",
    "# reduce data to a 2D array for a specific time:\n",
    "data_when = data[when,:,:]\n",
    "\n",
    "#close the file at the address\n",
    "fopen.close()\n",
    "\n",
    "# create a basemap to plot onto:\n",
    "m = Basemap(width=10000000, height=7000000,\\\n",
    "        resolution='l', projection='stere',\\\n",
    "        lat_ts=40, lat_0=50, lon_0=0)\n",
    "m.drawcoastlines()\n",
    "m.drawparallels(np.arange(-80.,81,20))\n",
    "m.drawmeridians(np.arange(-180.,181,20))\n",
    "# \n",
    "#   add other basemap drawing options here \n",
    "\n",
    "# convert 1D matrices into 2D fill matrices for processing:\n",
    "xx, yy = np.meshgrid(x, y)\n",
    "xx, yy = m(xx, yy)\n",
    "plt.contourf(xx, yy, data_when)\n",
    "\n",
    "plt.show()"
   ]
  }
 ],
 "metadata": {
  "kernelspec": {
   "display_name": "pygmt",
   "language": "python",
   "name": "python3"
  },
  "language_info": {
   "codemirror_mode": {
    "name": "ipython",
    "version": 3
   },
   "file_extension": ".py",
   "mimetype": "text/x-python",
   "name": "python",
   "nbconvert_exporter": "python",
   "pygments_lexer": "ipython3",
   "version": "3.6.15"
  },
  "orig_nbformat": 4
 },
 "nbformat": 4,
 "nbformat_minor": 2
}
